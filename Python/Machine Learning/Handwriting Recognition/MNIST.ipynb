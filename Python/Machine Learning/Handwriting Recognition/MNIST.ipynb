{
 "cells": [
  {
   "cell_type": "markdown",
   "source": [
    "\n",
    "<pre>\n",
    "   __  ______  ____  ___    _   _______ ____  ________________________  __\n",
    "  / / / / __ \\/ __ )/   |  / | / / ___// __ \\/ ____/  _/ ____/_  __/\\ \\/ /\n",
    " / / / / /_/ / __  / /| | /  |/ /\\__ \\/ / / / /    / // __/   / /    \\  / \n",
    "/ /_/ / _, _/ /_/ / ___ |/ /|  /___/ / /_/ / /____/ // /___  / /     / /  \n",
    "\\____/_/ |_/_____/_/  |_/_/ |_//____/\\____/\\____/___/_____/ /_/     /_/   \n",
    "                                                                          \n",
    "</pre>\n",
    "<p>\n",
    "<b>Department:</b> Urbansociety Research\n",
    "\n",
    "<b>Clearance:</b> Unrestricted - 0\n",
    "\n",
    "<b>Description:</b> Image classification model that can read handwritten digits using Googles TensorFlow modules and the DeepAI MNIST dataset. See https://en.wikipedia.org/wiki/Artificial_neural_network for more information on neural networks.\n",
    "\n",
    "<b>License:</b> MIT License\n",
    "\n",
    "    Copyright (c) 2021 Urbansociety\n",
    "\n",
    "    Permission is hereby granted, free of charge, to any person obtaining a copy\n",
    "    of this software and associated documentation files (the \"Software\"), to deal\n",
    "    in the Software without restriction, including without limitation the rights\n",
    "    to use, copy, modify, merge, publish, distribute, sublicense, and/or sell\n",
    "    copies of the Software, and to permit persons to whom the Software is\n",
    "    furnished to do so, subject to the following conditions:\n",
    "\n",
    "    The above copyright notice and this permission notice shall be included in all\n",
    "    copies or substantial portions of the Software.\n",
    "\n",
    "    THE SOFTWARE IS PROVIDED \"AS IS\", WITHOUT WARRANTY OF ANY KIND, EXPRESS OR\n",
    "    IMPLIED, INCLUDING BUT NOT LIMITED TO THE WARRANTIES OF MERCHANTABILITY,\n",
    "    FITNESS FOR A PARTICULAR PURPOSE AND NONINFRINGEMENT. IN NO EVENT SHALL THE\n",
    "    AUTHORS OR COPYRIGHT HOLDERS BE LIABLE FOR ANY CLAIM, DAMAGES OR OTHER\n",
    "    LIABILITY, WHETHER IN AN ACTION OF CONTRACT, TORT OR OTHERWISE, ARISING FROM,\n",
    "    OUT OF OR IN CONNECTION WITH THE SOFTWARE OR THE USE OR OTHER DEALINGS IN THE\n",
    "    SOFTWARE.\n",
    "\n",
    "<b>Dependencies:</b>\n",
    "    \n",
    "    Python 3.9.7    -   For more information visit https://www.python.org<br>\n",
    "    TensorFlow      -   For more information visit https://www.tensorflow.org<br>\n",
    "    Keras           -   For more information visit https://keras.io<br>\n",
    "    Matplotlib      -   For more information visit https://matplotlib.org<br>\n",
    "\n",
    "<b>Datasets:</b>\n",
    "    \n",
    "    MNIST Dataset   -   For more information visit https://deepai.org/dataset/mnist\n",
    "</p>"
   ],
   "metadata": {}
  },
  {
   "cell_type": "markdown",
   "source": [
    "<h3>Import modules</h3>"
   ],
   "metadata": {}
  },
  {
   "cell_type": "code",
   "execution_count": 2,
   "source": [
    "import tensorflow as tf\n",
    "import matplotlib.pyplot as plt"
   ],
   "outputs": [],
   "metadata": {}
  },
  {
   "cell_type": "markdown",
   "source": [
    "<h3>Download the dataset</h3>"
   ],
   "metadata": {}
  },
  {
   "cell_type": "code",
   "execution_count": 3,
   "source": [
    "# Download the OpenAI MNIST dataset\n",
    "mnist=tf.keras.datasets.mnist\n",
    "\n",
    "# Prepare the data and split it into a train and a test dataset\n",
    "(x_train, y_train), (x_test, y_test) = mnist.load_data()\n",
    "x_train, x_test = x_train / 255.0, x_test / 255.0"
   ],
   "outputs": [],
   "metadata": {}
  },
  {
   "cell_type": "markdown",
   "source": [
    "<h3>Look at the first image</h3>"
   ],
   "metadata": {}
  },
  {
   "cell_type": "code",
   "execution_count": 4,
   "source": [
    "# Look at the first image\n",
    "x_train[0].shape\n",
    "first_image=x_train[0]\n",
    "\n",
    "# Show the image in grayscale\n",
    "plt.imshow(first_image, cmap='gray')"
   ],
   "outputs": [
    {
     "output_type": "execute_result",
     "data": {
      "text/plain": [
       "<matplotlib.image.AxesImage at 0x7fc7bafee820>"
      ]
     },
     "metadata": {},
     "execution_count": 4
    },
    {
     "output_type": "display_data",
     "data": {
      "image/png": "[encoded data removed]",
      "text/plain": [
       "<Figure size 432x288 with 1 Axes>"
      ]
     },
     "metadata": {
      "needs_background": "light"
     }
    }
   ],
   "metadata": {}
  },
  {
   "cell_type": "markdown",
   "source": [
    "<h3>Create the neural network</h3>"
   ],
   "metadata": {}
  },
  {
   "cell_type": "code",
   "execution_count": 5,
   "source": [
    "# Create the neural network\n",
    "model = tf.keras.models.Sequential([\n",
    "    tf.keras.layers.Flatten(input_shape=[28,28]), # For the neural net we need a list of values not a matrix\n",
    "    tf.keras.layers.Dense(128, activation='relu'), # A dense layer is the same as a fully connected layer or the linear layer in pytorch\n",
    "    tf.keras.layers.Dropout(0.2), # Dropout means some of the outputs of the dense layer will be set to zero so that the network doesn't learn all the images by heart\n",
    "    tf.keras.layers.Dense(10) # Output layer. There are 10 outputs for 10 classes\n",
    "])"
   ],
   "outputs": [
    {
     "output_type": "stream",
     "name": "stderr",
     "text": [
      "2021-10-06 20:37:13.538186: I tensorflow/compiler/jit/xla_cpu_device.cc:41] Not creating XLA devices, tf_xla_enable_xla_devices not set\n",
      "2021-10-06 20:37:13.538626: I tensorflow/core/platform/cpu_feature_guard.cc:142] This TensorFlow binary is optimized with oneAPI Deep Neural Network Library (oneDNN) to use the following CPU instructions in performance-critical operations:  SSE4.1 SSE4.2 AVX AVX2 FMA\n",
      "To enable them in other operations, rebuild TensorFlow with the appropriate compiler flags.\n",
      "2021-10-06 20:37:13.539016: I tensorflow/core/common_runtime/process_util.cc:146] Creating new thread pool with default inter op setting: 2. Tune using inter_op_parallelism_threads for best performance.\n"
     ]
    }
   ],
   "metadata": {}
  },
  {
   "cell_type": "markdown",
   "source": [
    "<h3>Make a prediction on the untrained model</h3>"
   ],
   "metadata": {}
  },
  {
   "cell_type": "code",
   "execution_count": null,
   "source": [
    "# Make a prediction for the first image\n",
    "predictions = model(x_train[:1]).numpy()\n",
    "\n",
    "# Show prediction as probability\n",
    "tf.nn.softmax(predictions).numpy()"
   ],
   "outputs": [],
   "metadata": {}
  },
  {
   "cell_type": "markdown",
   "source": [
    "<h3>Create a loss function</h3>"
   ],
   "metadata": {}
  },
  {
   "cell_type": "code",
   "execution_count": null,
   "source": [
    "# Create a loss function\n",
    "loss_fn=tf.keras.losses.SparseCategoricalCrossentropy(from_logits=True)\n",
    "loss_fn(y_train[:1], predictions).numpy()\n",
    "model.compile(optimizer='adam',\n",
    "                loss=loss_fn,\n",
    "                metrics=['accuracy']\n",
    ")"
   ],
   "outputs": [],
   "metadata": {}
  },
  {
   "cell_type": "markdown",
   "source": [
    "<h3>Train the model</h3>"
   ],
   "metadata": {}
  },
  {
   "cell_type": "code",
   "execution_count": null,
   "source": [
    "# Train the model to reduce loss for a fixed number of epochs\n",
    "model.fit(x_train, y_train, epochs=50)"
   ],
   "outputs": [],
   "metadata": {}
  },
  {
   "cell_type": "markdown",
   "source": [
    "<h3>Evaluate the trained Model</h3>"
   ],
   "metadata": {}
  },
  {
   "cell_type": "code",
   "execution_count": null,
   "source": [
    "# Show information about the test set\n",
    "x_test.shape\n",
    "\n",
    "# Evaluate the model to see how accurate it predicts the integers in the test set\n",
    "model.evaluate(x_test, y_test, verbose=2)"
   ],
   "outputs": [],
   "metadata": {}
  },
  {
   "cell_type": "markdown",
   "source": [
    "<h3>Test the trained Model</h3>"
   ],
   "metadata": {}
  },
  {
   "cell_type": "code",
   "execution_count": null,
   "source": [
    "# Show the first test image in grayscale\n",
    "test_image=x_test[0]\n",
    "plt.imshow(test_image, cmap='gray')\n",
    "\n",
    "# Make prediction for the image\n",
    "predictions = model(x_test[:1]).numpy()\n",
    "highest_index=0\n",
    "for x in tf.nn.softmax(predictions):\n",
    "    for i,y in enumerate(x):\n",
    "        if(y>x[highest_index]):\n",
    "            highest_index=i\n",
    "print(f\"[Prediction]: The image is a {highest_index}\")"
   ],
   "outputs": [],
   "metadata": {}
  }
 ],
 "metadata": {
  "interpreter": {
   "hash": "713a977bc027d66ae3945b8c91b9769c41ec904a69219893298b3eaa62ecf018"
  },
  "kernelspec": {
   "display_name": "Python 3 (ipykernel)",
   "language": "python",
   "name": "python3"
  },
  "language_info": {
   "codemirror_mode": {
    "name": "ipython",
    "version": 3
   },
   "file_extension": ".py",
   "mimetype": "text/x-python",
   "name": "python",
   "nbconvert_exporter": "python",
   "pygments_lexer": "ipython3",
   "version": "3.9.7"
  }
 },
 "nbformat": 4,
 "nbformat_minor": 2
}