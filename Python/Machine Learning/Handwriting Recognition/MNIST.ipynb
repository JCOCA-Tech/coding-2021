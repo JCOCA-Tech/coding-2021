{
 "cells": [
  {
   "cell_type": "markdown",
   "source": [
    "\n",
    "<pre>\n",
    "   __  ______  ____  ___    _   _______ ____  ________________________  __\n",
    "  / / / / __ \\/ __ )/   |  / | / / ___// __ \\/ ____/  _/ ____/_  __/\\ \\/ /\n",
    " / / / / /_/ / __  / /| | /  |/ /\\__ \\/ / / / /    / // __/   / /    \\  / \n",
    "/ /_/ / _, _/ /_/ / ___ |/ /|  /___/ / /_/ / /____/ // /___  / /     / /  \n",
    "\\____/_/ |_/_____/_/  |_/_/ |_//____/\\____/\\____/___/_____/ /_/     /_/   \n",
    "                                                                          \n",
    "</pre>\n",
    "<p>\n",
    "<b>Department:</b> Urbansociety Research\n",
    "\n",
    "<b>Clearance:</b> Unrestricted - 0\n",
    "\n",
    "<b>Description:</b> Image classification model that can read handwritten digits using Googles TensorFlow modules and the DeepAI MNIST dataset. See https://en.wikipedia.org/wiki/Artificial_neural_network for more information on neural networks.\n",
    "\n",
    "<b>License:</b> MIT License\n",
    "\n",
    "    Copyright (c) 2021 Urbansociety\n",
    "\n",
    "    Permission is hereby granted, free of charge, to any person obtaining a copy\n",
    "    of this software and associated documentation files (the \"Software\"), to deal\n",
    "    in the Software without restriction, including without limitation the rights\n",
    "    to use, copy, modify, merge, publish, distribute, sublicense, and/or sell\n",
    "    copies of the Software, and to permit persons to whom the Software is\n",
    "    furnished to do so, subject to the following conditions:\n",
    "\n",
    "    The above copyright notice and this permission notice shall be included in all\n",
    "    copies or substantial portions of the Software.\n",
    "\n",
    "    THE SOFTWARE IS PROVIDED \"AS IS\", WITHOUT WARRANTY OF ANY KIND, EXPRESS OR\n",
    "    IMPLIED, INCLUDING BUT NOT LIMITED TO THE WARRANTIES OF MERCHANTABILITY,\n",
    "    FITNESS FOR A PARTICULAR PURPOSE AND NONINFRINGEMENT. IN NO EVENT SHALL THE\n",
    "    AUTHORS OR COPYRIGHT HOLDERS BE LIABLE FOR ANY CLAIM, DAMAGES OR OTHER\n",
    "    LIABILITY, WHETHER IN AN ACTION OF CONTRACT, TORT OR OTHERWISE, ARISING FROM,\n",
    "    OUT OF OR IN CONNECTION WITH THE SOFTWARE OR THE USE OR OTHER DEALINGS IN THE\n",
    "    SOFTWARE.\n",
    "\n",
    "<b>Dependencies:</b>\n",
    "    \n",
    "    Python 3.9.7    -   For more information visit https://www.python.org<br>\n",
    "    TensorFlow      -   For more information visit https://www.tensorflow.org<br>\n",
    "    Keras           -   For more information visit https://keras.io<br>\n",
    "    Matplotlib      -   For more information visit https://matplotlib.org<br>\n",
    "\n",
    "<b>Datasets:</b>\n",
    "    \n",
    "    MNIST Dataset   -   For more information visit https://deepai.org/dataset/mnist\n",
    "\n",
    "<b>Tested platforms:</b>\n",
    "\n",
    "\tLinux:\n",
    "\n",
    "\t\tFedora 34\t-\tFor more information visit https://getfedora.org/\n",
    "\n",
    "\n",
    "</p>"
   ],
   "metadata": {}
  },
  {
   "cell_type": "markdown",
   "source": [
    "<h3>Import modules</h3>"
   ],
   "metadata": {}
  },
  {
   "cell_type": "code",
   "execution_count": 1,
   "source": [
    "import tensorflow as tf\n",
    "import matplotlib.pyplot as plt"
   ],
   "outputs": [],
   "metadata": {}
  },
  {
   "cell_type": "markdown",
   "source": [
    "<h3>Download the dataset</h3>"
   ],
   "metadata": {}
  },
  {
   "cell_type": "code",
   "execution_count": 2,
   "source": [
    "# Download the OpenAI MNIST dataset\n",
    "mnist=tf.keras.datasets.mnist\n",
    "\n",
    "# Prepare the data and split it into a train and a test dataset\n",
    "(x_train, y_train), (x_test, y_test) = mnist.load_data()\n",
    "x_train, x_test = x_train / 255.0, x_test / 255.0"
   ],
   "outputs": [],
   "metadata": {}
  },
  {
   "cell_type": "markdown",
   "source": [
    "<h3>Look at the first image</h3>"
   ],
   "metadata": {}
  },
  {
   "cell_type": "code",
   "execution_count": 3,
   "source": [
    "# Look at the first image\n",
    "x_train[0].shape\n",
    "first_image=x_train[0]\n",
    "\n",
    "# Show the image in grayscale\n",
    "plt.imshow(first_image, cmap='gray')"
   ],
   "outputs": [
    {
     "output_type": "execute_result",
     "data": {
      "text/plain": [
       "<matplotlib.image.AxesImage at 0x7efb9fcb47c0>"
      ]
     },
     "metadata": {},
     "execution_count": 3
    },
    {
     "output_type": "display_data",
     "data": {
      "image/png": "[encoded data removed]",
      "text/plain": [
       "<Figure size 432x288 with 1 Axes>"
      ]
     },
     "metadata": {
      "needs_background": "light"
     }
    }
   ],
   "metadata": {}
  },
  {
   "cell_type": "markdown",
   "source": [
    "<h3>Create the neural network</h3>"
   ],
   "metadata": {}
  },
  {
   "cell_type": "code",
   "execution_count": 4,
   "source": [
    "# Create the neural network\n",
    "model = tf.keras.models.Sequential([\n",
    "    tf.keras.layers.Flatten(input_shape=[28,28]), # For the neural net we need a list of values not a matrix\n",
    "    tf.keras.layers.Dense(128, activation='relu'), # A dense layer is the same as a fully connected layer or the linear layer in pytorch\n",
    "    tf.keras.layers.Dropout(0.2), # Dropout means some of the outputs of the dense layer will be set to zero so that the network doesn't learn all the images by heart\n",
    "    tf.keras.layers.Dense(10) # Output layer. There are 10 outputs for 10 classes\n",
    "])"
   ],
   "outputs": [
    {
     "output_type": "stream",
     "name": "stderr",
     "text": [
      "2021-10-06 21:43:56.284655: I tensorflow/compiler/jit/xla_cpu_device.cc:41] Not creating XLA devices, tf_xla_enable_xla_devices not set\n",
      "2021-10-06 21:43:56.308629: I tensorflow/core/platform/cpu_feature_guard.cc:142] This TensorFlow binary is optimized with oneAPI Deep Neural Network Library (oneDNN) to use the following CPU instructions in performance-critical operations:  SSE4.1 SSE4.2 AVX AVX2 FMA\n",
      "To enable them in other operations, rebuild TensorFlow with the appropriate compiler flags.\n",
      "2021-10-06 21:43:56.309726: I tensorflow/core/common_runtime/process_util.cc:146] Creating new thread pool with default inter op setting: 2. Tune using inter_op_parallelism_threads for best performance.\n"
     ]
    }
   ],
   "metadata": {}
  },
  {
   "cell_type": "markdown",
   "source": [
    "<h3>Make a prediction on the untrained model</h3>"
   ],
   "metadata": {}
  },
  {
   "cell_type": "code",
   "execution_count": 5,
   "source": [
    "# Make a prediction for the first image\n",
    "predictions = model(x_train[:1]).numpy()\n",
    "\n",
    "# Show prediction as probability\n",
    "tf.nn.softmax(predictions).numpy()"
   ],
   "outputs": [
    {
     "output_type": "execute_result",
     "data": {
      "text/plain": [
       "array([[0.07924489, 0.09139222, 0.0696773 , 0.16694754, 0.10660441,\n",
       "        0.09405775, 0.15975605, 0.04279941, 0.07556552, 0.11395483]],\n",
       "      dtype=float32)"
      ]
     },
     "metadata": {},
     "execution_count": 5
    }
   ],
   "metadata": {}
  },
  {
   "cell_type": "markdown",
   "source": [
    "<h3>Create a loss function</h3>"
   ],
   "metadata": {}
  },
  {
   "cell_type": "code",
   "execution_count": 6,
   "source": [
    "# Create a loss function\n",
    "loss_fn=tf.keras.losses.SparseCategoricalCrossentropy(from_logits=True)\n",
    "loss_fn(y_train[:1], predictions).numpy()\n",
    "model.compile(optimizer='adam',\n",
    "                loss=loss_fn,\n",
    "                metrics=['accuracy']\n",
    ")"
   ],
   "outputs": [],
   "metadata": {}
  },
  {
   "cell_type": "markdown",
   "source": [
    "<h3>Train the model</h3>"
   ],
   "metadata": {}
  },
  {
   "cell_type": "code",
   "execution_count": 7,
   "source": [
    "# Train the model to reduce loss for a fixed number of epochs\n",
    "model.fit(x_train, y_train, epochs=50)"
   ],
   "outputs": [
    {
     "output_type": "stream",
     "name": "stderr",
     "text": [
      "2021-10-06 21:44:14.789051: I tensorflow/compiler/mlir/mlir_graph_optimization_pass.cc:116] None of the MLIR optimization passes are enabled (registered 2)\n",
      "2021-10-06 21:44:14.804028: I tensorflow/core/platform/profile_utils/cpu_utils.cc:112] CPU Frequency: 1800055000 Hz\n"
     ]
    },
    {
     "output_type": "stream",
     "name": "stdout",
     "text": [
      "Epoch 1/50\n",
      "1875/1875 [==============================] - 35s 17ms/step - loss: 0.4763 - accuracy: 0.8625\n",
      "Epoch 2/50\n",
      "1875/1875 [==============================] - 36s 19ms/step - loss: 0.1527 - accuracy: 0.9565\n",
      "Epoch 3/50\n",
      "1875/1875 [==============================] - 42s 22ms/step - loss: 0.1105 - accuracy: 0.9665\n",
      "Epoch 4/50\n",
      "1875/1875 [==============================] - 27s 14ms/step - loss: 0.0920 - accuracy: 0.9711\n",
      "Epoch 5/50\n",
      "1875/1875 [==============================] - 27s 14ms/step - loss: 0.0781 - accuracy: 0.9763\n",
      "Epoch 6/50\n",
      "1875/1875 [==============================] - 15s 8ms/step - loss: 0.0664 - accuracy: 0.9792\n",
      "Epoch 7/50\n",
      "1875/1875 [==============================] - 13s 7ms/step - loss: 0.0555 - accuracy: 0.9824\n",
      "Epoch 8/50\n",
      "1875/1875 [==============================] - 19s 10ms/step - loss: 0.0527 - accuracy: 0.9823\n",
      "Epoch 9/50\n",
      "1875/1875 [==============================] - 17s 9ms/step - loss: 0.0487 - accuracy: 0.9837\n",
      "Epoch 10/50\n",
      "1875/1875 [==============================] - 15s 8ms/step - loss: 0.0438 - accuracy: 0.9854\n",
      "Epoch 11/50\n",
      "1875/1875 [==============================] - 17s 9ms/step - loss: 0.0444 - accuracy: 0.9852\n",
      "Epoch 12/50\n",
      "1875/1875 [==============================] - 14s 8ms/step - loss: 0.0381 - accuracy: 0.9871\n",
      "Epoch 13/50\n",
      "1875/1875 [==============================] - 14s 7ms/step - loss: 0.0347 - accuracy: 0.9888\n",
      "Epoch 14/50\n",
      "1875/1875 [==============================] - 12s 7ms/step - loss: 0.0331 - accuracy: 0.9891\n",
      "Epoch 15/50\n",
      "1875/1875 [==============================] - 13s 7ms/step - loss: 0.0310 - accuracy: 0.9893\n",
      "Epoch 16/50\n",
      "1875/1875 [==============================] - 20s 10ms/step - loss: 0.0321 - accuracy: 0.9890\n",
      "Epoch 17/50\n",
      "1875/1875 [==============================] - 21s 11ms/step - loss: 0.0285 - accuracy: 0.9898\n",
      "Epoch 18/50\n",
      "1875/1875 [==============================] - 18s 9ms/step - loss: 0.0250 - accuracy: 0.9913\n",
      "Epoch 19/50\n",
      "1875/1875 [==============================] - 13s 7ms/step - loss: 0.0238 - accuracy: 0.9917\n",
      "Epoch 20/50\n",
      "1875/1875 [==============================] - 15s 8ms/step - loss: 0.0254 - accuracy: 0.9910\n",
      "Epoch 21/50\n",
      "1875/1875 [==============================] - 14s 7ms/step - loss: 0.0241 - accuracy: 0.9917\n",
      "Epoch 22/50\n",
      "1875/1875 [==============================] - 12s 7ms/step - loss: 0.0221 - accuracy: 0.9927\n",
      "Epoch 23/50\n",
      "1875/1875 [==============================] - 13s 7ms/step - loss: 0.0246 - accuracy: 0.9916\n",
      "Epoch 24/50\n",
      "1875/1875 [==============================] - 25s 13ms/step - loss: 0.0224 - accuracy: 0.9917\n",
      "Epoch 25/50\n",
      "1875/1875 [==============================] - 16s 9ms/step - loss: 0.0217 - accuracy: 0.9921\n",
      "Epoch 26/50\n",
      "1875/1875 [==============================] - 19s 10ms/step - loss: 0.0189 - accuracy: 0.9935\n",
      "Epoch 27/50\n",
      "1875/1875 [==============================] - 13s 7ms/step - loss: 0.0198 - accuracy: 0.9926\n",
      "Epoch 28/50\n",
      "1875/1875 [==============================] - 12s 7ms/step - loss: 0.0217 - accuracy: 0.9929\n",
      "Epoch 29/50\n",
      "1875/1875 [==============================] - 14s 7ms/step - loss: 0.0202 - accuracy: 0.9932\n",
      "Epoch 30/50\n",
      "1875/1875 [==============================] - 14s 7ms/step - loss: 0.0182 - accuracy: 0.9934\n",
      "Epoch 31/50\n",
      "1875/1875 [==============================] - 18s 9ms/step - loss: 0.0221 - accuracy: 0.9928\n",
      "Epoch 32/50\n",
      "1875/1875 [==============================] - 19s 10ms/step - loss: 0.0184 - accuracy: 0.9935\n",
      "Epoch 33/50\n",
      "1875/1875 [==============================] - 17s 9ms/step - loss: 0.0185 - accuracy: 0.9935\n",
      "Epoch 34/50\n",
      "1875/1875 [==============================] - 17s 9ms/step - loss: 0.0169 - accuracy: 0.9937\n",
      "Epoch 35/50\n",
      "1875/1875 [==============================] - 16s 8ms/step - loss: 0.0166 - accuracy: 0.9939\n",
      "Epoch 36/50\n",
      "1875/1875 [==============================] - 13s 7ms/step - loss: 0.0158 - accuracy: 0.9945\n",
      "Epoch 37/50\n",
      "1875/1875 [==============================] - 14s 7ms/step - loss: 0.0178 - accuracy: 0.9942\n",
      "Epoch 38/50\n",
      "1875/1875 [==============================] - 13s 7ms/step - loss: 0.0165 - accuracy: 0.9940\n",
      "Epoch 39/50\n",
      "1875/1875 [==============================] - 19s 10ms/step - loss: 0.0176 - accuracy: 0.9940\n",
      "Epoch 40/50\n",
      "1875/1875 [==============================] - 19s 10ms/step - loss: 0.0168 - accuracy: 0.9941\n",
      "Epoch 41/50\n",
      "1875/1875 [==============================] - 16s 9ms/step - loss: 0.0158 - accuracy: 0.9944\n",
      "Epoch 42/50\n",
      "1875/1875 [==============================] - 14s 8ms/step - loss: 0.0161 - accuracy: 0.9947\n",
      "Epoch 43/50\n",
      "1875/1875 [==============================] - 15s 8ms/step - loss: 0.0176 - accuracy: 0.9940\n",
      "Epoch 44/50\n",
      "1875/1875 [==============================] - 13s 7ms/step - loss: 0.0152 - accuracy: 0.9950\n",
      "Epoch 45/50\n",
      "1875/1875 [==============================] - 15s 8ms/step - loss: 0.0170 - accuracy: 0.9944\n",
      "Epoch 46/50\n",
      "1875/1875 [==============================] - 17s 9ms/step - loss: 0.0135 - accuracy: 0.9951\n",
      "Epoch 47/50\n",
      "1875/1875 [==============================] - 20s 11ms/step - loss: 0.0182 - accuracy: 0.9937\n",
      "Epoch 48/50\n",
      "1875/1875 [==============================] - 20s 11ms/step - loss: 0.0157 - accuracy: 0.9944\n",
      "Epoch 49/50\n",
      "1875/1875 [==============================] - 18s 10ms/step - loss: 0.0153 - accuracy: 0.9947\n",
      "Epoch 50/50\n",
      "1875/1875 [==============================] - 15s 8ms/step - loss: 0.0146 - accuracy: 0.9949\n"
     ]
    },
    {
     "output_type": "execute_result",
     "data": {
      "text/plain": [
       "<tensorflow.python.keras.callbacks.History at 0x7efb80a36ac0>"
      ]
     },
     "metadata": {},
     "execution_count": 7
    }
   ],
   "metadata": {}
  },
  {
   "cell_type": "markdown",
   "source": [
    "<h3>Evaluate the trained Model</h3>"
   ],
   "metadata": {}
  },
  {
   "cell_type": "code",
   "execution_count": 8,
   "source": [
    "# Show information about the test set\n",
    "x_test.shape\n",
    "\n",
    "# Evaluate the model to see how accurate it predicts the integers in the test set\n",
    "model.evaluate(x_test, y_test, verbose=2)"
   ],
   "outputs": [
    {
     "output_type": "stream",
     "name": "stdout",
     "text": [
      "313/313 - 2s - loss: 0.1258 - accuracy: 0.9803\n"
     ]
    },
    {
     "output_type": "execute_result",
     "data": {
      "text/plain": [
       "[0.1258234679698944, 0.9803000092506409]"
      ]
     },
     "metadata": {},
     "execution_count": 8
    }
   ],
   "metadata": {}
  },
  {
   "cell_type": "markdown",
   "source": [
    "<h3>Test the trained Model</h3>"
   ],
   "metadata": {}
  },
  {
   "cell_type": "code",
   "execution_count": 9,
   "source": [
    "# Show the first test image in grayscale\n",
    "test_image=x_test[0]\n",
    "plt.imshow(test_image, cmap='gray')\n",
    "\n",
    "# Make prediction for the image\n",
    "predictions = model(x_test[:1]).numpy()\n",
    "highest_index=0\n",
    "for x in tf.nn.softmax(predictions):\n",
    "    for i,y in enumerate(x):\n",
    "        if(y>x[highest_index]):\n",
    "            highest_index=i\n",
    "print(f\"[Prediction]: The image is a {highest_index}\")"
   ],
   "outputs": [
    {
     "output_type": "stream",
     "name": "stdout",
     "text": [
      "[Prediction]: The image is a 7\n"
     ]
    },
    {
     "output_type": "display_data",
     "data": {
      "image/png": "[encoded data removed]",
      "text/plain": [
       "<Figure size 432x288 with 1 Axes>"
      ]
     },
     "metadata": {
      "needs_background": "light"
     }
    }
   ],
   "metadata": {}
  },
  {
   "cell_type": "code",
   "execution_count": null,
   "source": [],
   "outputs": [],
   "metadata": {}
  }
 ],
 "metadata": {
  "interpreter": {
   "hash": "713a977bc027d66ae3945b8c91b9769c41ec904a69219893298b3eaa62ecf018"
  },
  "kernelspec": {
   "name": "python3",
   "display_name": "Python 3.9.7 64-bit ('USR_AI': conda)"
  },
  "language_info": {
   "codemirror_mode": {
    "name": "ipython",
    "version": 3
   },
   "file_extension": ".py",
   "mimetype": "text/x-python",
   "name": "python",
   "nbconvert_exporter": "python",
   "pygments_lexer": "ipython3",
   "version": "3.9.7"
  }
 },
 "nbformat": 4,
 "nbformat_minor": 2
}